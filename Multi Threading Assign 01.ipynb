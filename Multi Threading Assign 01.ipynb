{
 "cells": [
  {
   "cell_type": "code",
   "execution_count": 1,
   "id": "e9fc1231-ae04-4a81-a433-15beacd4411b",
   "metadata": {},
   "outputs": [],
   "source": [
    "#). What is multithreading in python? hy is it used? Name the module used to handle threads in python"
   ]
  },
  {
   "cell_type": "code",
   "execution_count": 2,
   "id": "2e4f8af2-c3f3-41b8-8d46-333897c6e3b5",
   "metadata": {},
   "outputs": [],
   "source": [
    "#Multithreading is a threading technique in Python programming to run multiple threads concurrently by rapidly\n",
    "#switching between threads with a CPU help (called context switching).\n",
    "#On a multiprocessor system, multiple threads can concurrently run on multiple CPUs. Therefore, multithreaded \n",
    "#programs can run much faster than on a uniprocessor system.\n",
    "#Use the Python threading module to create a multi-threaded application.\n",
    "#Use the Thread(function, args) to create a new thread.\n",
    "#Call the start() method of the Thread class to start the thread.\n",
    "#Call the join() method of the Thread class to wait for the thread to complete in the main thread."
   ]
  },
  {
   "cell_type": "code",
   "execution_count": 3,
   "id": "df39ddb9-b730-4e9a-9a75-112ef52fa89a",
   "metadata": {},
   "outputs": [],
   "source": [
    "#Q2. Why threading module used? rite the use of the following functions\n",
    "# activeCount()\n",
    "# currentThread()\n",
    "# enumerate()"
   ]
  },
  {
   "cell_type": "code",
   "execution_count": 4,
   "id": "a44518de-98fc-4826-b256-70d2eff0c3e1",
   "metadata": {},
   "outputs": [],
   "source": [
    "#Python threading allows you to have different parts of your program run concurrently and can simplify \n",
    "#your design.\n",
    "#threading.activeCount() − Returns the number of thread objects that are active.\n",
    "#threading.currentThread() − Returns the number of thread objects in the caller's thread control. \n",
    "#threading.enumerate() − Returns a list of all thread objects that are currently active."
   ]
  },
  {
   "cell_type": "code",
   "execution_count": 5,
   "id": "608be210-a61d-4d75-9838-a48a7a96a9f2",
   "metadata": {},
   "outputs": [],
   "source": [
    "#Q3. Explain the following functions\n",
    "# run()\n",
    "# start()\n",
    "# join()\n",
    "# isAlive()"
   ]
  },
  {
   "cell_type": "code",
   "execution_count": 6,
   "id": "19fd7872-e27f-40b0-a82a-a32b084a9562",
   "metadata": {},
   "outputs": [],
   "source": [
    "#The . run() method executes any target function belonging to a given thread object that is now active.\n",
    "# start() method is an inbuilt method of the Thread class of the threading module, it is used to start a thread's\n",
    "#activity. This method calls the run() method internally which then executes the target method.\n",
    "#The join() method takes all items in an iterable and joins them into one string. A string must be specified\n",
    "#as the separator.\n",
    "#The . is_alive() method returns True if the thread is still running and False , otherwise."
   ]
  },
  {
   "cell_type": "code",
   "execution_count": 7,
   "id": "86c6d928-838d-475f-a726-9396d5c19e6e",
   "metadata": {},
   "outputs": [],
   "source": [
    "#Q5. State advantages and disadvantages of multithreading"
   ]
  },
  {
   "cell_type": "code",
   "execution_count": 9,
   "id": "071f2357-dd15-4b55-b005-70538604544b",
   "metadata": {},
   "outputs": [],
   "source": [
    "#Here are the two main advantages:\n",
    "# . Multithreading in Python streamlines the efficient utilization of resources as the threads share the\n",
    "#same memory and data space.\n",
    "# . It also allows the concurrent appearance of multiple tasks and reduces the response time. This improves\n",
    "#the performance.\n",
    "# Disadvantages \n",
    "#Difficulty of writing code. Multithreaded and multicontexted applications are not easy to write. ...\n",
    "#Difficulty of debugging. ...\n",
    "#Difficulty of managing concurrency. ...\n",
    "#Difficulty of testing. ...\n",
    "#Difficulty of porting existing code.\n"
   ]
  },
  {
   "cell_type": "code",
   "execution_count": 10,
   "id": "3d691dd3-5e58-4a19-b6eb-3a3fa9089c3c",
   "metadata": {},
   "outputs": [],
   "source": [
    "#6. Explain deadlocks and race conditions."
   ]
  },
  {
   "cell_type": "code",
   "execution_count": 11,
   "id": "9a6ba7b9-3824-47fd-a177-eeba9b07c0eb",
   "metadata": {},
   "outputs": [],
   "source": [
    "#A deadlock is a concurrency failure mode where a thread or threads wait for a condition that never occurs.\n",
    "#The result is that the deadlock threads are unable to progress and the program is stuck or frozen and must be \n",
    "#terminated forcefully.\n",
    "#A race condition means that your program's result might depend on the order of execution of the individual\n",
    "#steps. This becomes essential in concurrent programs that can run multiple threads of execution simultaneously\n",
    "#through context switching, and they access a shared resource like a variable."
   ]
  },
  {
   "cell_type": "code",
   "execution_count": null,
   "id": "7916bc03-f156-4d7a-8d42-8b9fd31cf7f4",
   "metadata": {},
   "outputs": [],
   "source": []
  },
  {
   "cell_type": "code",
   "execution_count": null,
   "id": "bc43c976-d930-483d-98f7-d80d65f72225",
   "metadata": {},
   "outputs": [],
   "source": []
  }
 ],
 "metadata": {
  "kernelspec": {
   "display_name": "Python 3 (ipykernel)",
   "language": "python",
   "name": "python3"
  },
  "language_info": {
   "codemirror_mode": {
    "name": "ipython",
    "version": 3
   },
   "file_extension": ".py",
   "mimetype": "text/x-python",
   "name": "python",
   "nbconvert_exporter": "python",
   "pygments_lexer": "ipython3",
   "version": "3.10.8"
  }
 },
 "nbformat": 4,
 "nbformat_minor": 5
}
